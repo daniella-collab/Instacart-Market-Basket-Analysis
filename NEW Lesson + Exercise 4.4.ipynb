{
 "cells": [
  {
   "cell_type": "markdown",
   "id": "aebdd4d0-0501-4f6f-b8d8-ad30f4f16661",
   "metadata": {},
   "source": [
    "##### Contents:\n",
    "###### 1. Import Libraries\n",
    "###### 2. Import data\n",
    "###### 3. Wrangling data\n",
    "###### 4. Creating Data Dictionary"
   ]
  },
  {
   "cell_type": "markdown",
   "id": "bdd95ece-d62e-412b-a34f-4e87e47079b0",
   "metadata": {},
   "source": [
    "#### 1. Importing libraries"
   ]
  },
  {
   "cell_type": "code",
   "execution_count": 2,
   "id": "a285c0f5-5522-46ae-a721-e177c92d2148",
   "metadata": {},
   "outputs": [],
   "source": [
    "import pandas as pd\n",
    "import numpy as np\n",
    "import os"
   ]
  },
  {
   "cell_type": "markdown",
   "id": "c16ae470-e255-46ee-a659-473dbda793f2",
   "metadata": {},
   "source": [
    "#### 2. Importing data"
   ]
  },
  {
   "cell_type": "code",
   "execution_count": 4,
   "id": "184c21f9-0e63-49b8-a1d5-ea586ac19ccf",
   "metadata": {},
   "outputs": [],
   "source": [
    "#create path\n",
    "path = r'C:\\Users\\Daniella\\ACH4 - Instacart Basket Analysis'\n",
    "#orders data\n",
    "df_ords = pd.read_csv(os.path.join(path, '02. Data', 'Original Data', 'orders.csv'), index_col = False)\n",
    "#products data\n",
    "df_prods = pd.read_csv(os.path.join(path, '02. Data', 'Original data', 'products.csv'), index_col = False)\n",
    "#departments data\n",
    "df_dep = pd.read_csv(os.path.join(path, '02. Data', 'Original data', 'departments.csv'), index_col = False)"
   ]
  },
  {
   "cell_type": "code",
   "execution_count": 8,
   "id": "f2ca0622-d846-4321-9603-5faee7c6f4ec",
   "metadata": {},
   "outputs": [
    {
     "data": {
      "text/plain": [
       "(49693, 5)"
      ]
     },
     "execution_count": 8,
     "metadata": {},
     "output_type": "execute_result"
    }
   ],
   "source": [
    "df_prods.shape"
   ]
  },
  {
   "cell_type": "markdown",
   "id": "6cd72b03-ab03-48de-82fa-678dfe901fe0",
   "metadata": {},
   "source": [
    "#### 3. Wrangling data"
   ]
  },
  {
   "cell_type": "markdown",
   "id": "c2b26ec0-2c42-4d10-9b28-431ef9f8e47b",
   "metadata": {},
   "source": [
    "##### 3.1. Orders dataframe"
   ]
  },
  {
   "cell_type": "code",
   "execution_count": 20,
   "id": "1a1b9d9d-be7e-485a-832f-1619b07a2286",
   "metadata": {},
   "outputs": [],
   "source": [
    "#dropping eval_set column from orders data frame\n",
    "df_ords=df_ords.drop(columns = ['eval_set'])"
   ]
  },
  {
   "cell_type": "code",
   "execution_count": 22,
   "id": "caa6d9f3-d1b2-486a-9fe3-403ee4d3944e",
   "metadata": {},
   "outputs": [],
   "source": [
    "#changing data type for order and user ID in orders data frame\n",
    "df_ords['order_id'] = df_ords['order_id'].astype('str')\n",
    "df_ords['user_id'] = df_ords['user_id'].astype('str')"
   ]
  },
  {
   "cell_type": "markdown",
   "id": "15ee3c08-62bc-4f84-8aff-62bce1a6a91d",
   "metadata": {},
   "source": [
    "##### 3.2. Departments  dataframe"
   ]
  },
  {
   "cell_type": "code",
   "execution_count": 26,
   "id": "33c32d90-e1fe-4d9c-a709-17059bab4dc4",
   "metadata": {},
   "outputs": [],
   "source": [
    "#transposing df_dep\n",
    "df_dep_t=df_dep.T"
   ]
  },
  {
   "cell_type": "markdown",
   "id": "fd47b384-a591-438a-a636-c26f57034446",
   "metadata": {},
   "source": [
    "##### Change header of departments df"
   ]
  },
  {
   "cell_type": "code",
   "execution_count": 30,
   "id": "e99dd10b-59b4-4f1c-bae6-e0fbe2ddaec7",
   "metadata": {},
   "outputs": [],
   "source": [
    "#take 1st row of df_dep_t for the header\n",
    "new_header = df_dep_t.iloc[0]"
   ]
  },
  {
   "cell_type": "code",
   "execution_count": 32,
   "id": "1dbcfb45-4287-4258-adc9-94df7d73a3fd",
   "metadata": {},
   "outputs": [],
   "source": [
    "#copying df_dep_t from row 1 onward\n",
    "df_dep_t_new = df_dep_t[1:]"
   ]
  },
  {
   "cell_type": "code",
   "execution_count": 36,
   "id": "6c81368a-9892-4384-ad88-d2bb6a90c113",
   "metadata": {},
   "outputs": [],
   "source": [
    "#set the header row as the df header\n",
    "df_dep_t_new.columns = new_header"
   ]
  },
  {
   "cell_type": "markdown",
   "id": "6fe314e8-6e87-4205-aa85-3d3ff5aeb188",
   "metadata": {},
   "source": [
    "##### Checking result of the transformation"
   ]
  },
  {
   "cell_type": "code",
   "execution_count": 39,
   "id": "cf79ae23-ccdd-42c7-84c7-4343424a3419",
   "metadata": {},
   "outputs": [
    {
     "data": {
      "text/html": [
       "<div>\n",
       "<style scoped>\n",
       "    .dataframe tbody tr th:only-of-type {\n",
       "        vertical-align: middle;\n",
       "    }\n",
       "\n",
       "    .dataframe tbody tr th {\n",
       "        vertical-align: top;\n",
       "    }\n",
       "\n",
       "    .dataframe thead th {\n",
       "        text-align: right;\n",
       "    }\n",
       "</style>\n",
       "<table border=\"1\" class=\"dataframe\">\n",
       "  <thead>\n",
       "    <tr style=\"text-align: right;\">\n",
       "      <th>department_id</th>\n",
       "      <th>department</th>\n",
       "    </tr>\n",
       "  </thead>\n",
       "  <tbody>\n",
       "    <tr>\n",
       "      <th>1</th>\n",
       "      <td>frozen</td>\n",
       "    </tr>\n",
       "    <tr>\n",
       "      <th>2</th>\n",
       "      <td>other</td>\n",
       "    </tr>\n",
       "    <tr>\n",
       "      <th>3</th>\n",
       "      <td>bakery</td>\n",
       "    </tr>\n",
       "    <tr>\n",
       "      <th>4</th>\n",
       "      <td>produce</td>\n",
       "    </tr>\n",
       "    <tr>\n",
       "      <th>5</th>\n",
       "      <td>alcohol</td>\n",
       "    </tr>\n",
       "    <tr>\n",
       "      <th>6</th>\n",
       "      <td>international</td>\n",
       "    </tr>\n",
       "    <tr>\n",
       "      <th>7</th>\n",
       "      <td>beverages</td>\n",
       "    </tr>\n",
       "    <tr>\n",
       "      <th>8</th>\n",
       "      <td>pets</td>\n",
       "    </tr>\n",
       "    <tr>\n",
       "      <th>9</th>\n",
       "      <td>dry goods pasta</td>\n",
       "    </tr>\n",
       "    <tr>\n",
       "      <th>10</th>\n",
       "      <td>bulk</td>\n",
       "    </tr>\n",
       "    <tr>\n",
       "      <th>11</th>\n",
       "      <td>personal care</td>\n",
       "    </tr>\n",
       "    <tr>\n",
       "      <th>12</th>\n",
       "      <td>meat seafood</td>\n",
       "    </tr>\n",
       "    <tr>\n",
       "      <th>13</th>\n",
       "      <td>pantry</td>\n",
       "    </tr>\n",
       "    <tr>\n",
       "      <th>14</th>\n",
       "      <td>breakfast</td>\n",
       "    </tr>\n",
       "    <tr>\n",
       "      <th>15</th>\n",
       "      <td>canned goods</td>\n",
       "    </tr>\n",
       "    <tr>\n",
       "      <th>16</th>\n",
       "      <td>dairy eggs</td>\n",
       "    </tr>\n",
       "    <tr>\n",
       "      <th>17</th>\n",
       "      <td>household</td>\n",
       "    </tr>\n",
       "    <tr>\n",
       "      <th>18</th>\n",
       "      <td>babies</td>\n",
       "    </tr>\n",
       "    <tr>\n",
       "      <th>19</th>\n",
       "      <td>snacks</td>\n",
       "    </tr>\n",
       "    <tr>\n",
       "      <th>20</th>\n",
       "      <td>deli</td>\n",
       "    </tr>\n",
       "    <tr>\n",
       "      <th>21</th>\n",
       "      <td>missing</td>\n",
       "    </tr>\n",
       "  </tbody>\n",
       "</table>\n",
       "</div>"
      ],
      "text/plain": [
       "department_id       department\n",
       "1                       frozen\n",
       "2                        other\n",
       "3                       bakery\n",
       "4                      produce\n",
       "5                      alcohol\n",
       "6                international\n",
       "7                    beverages\n",
       "8                         pets\n",
       "9              dry goods pasta\n",
       "10                        bulk\n",
       "11               personal care\n",
       "12                meat seafood\n",
       "13                      pantry\n",
       "14                   breakfast\n",
       "15                canned goods\n",
       "16                  dairy eggs\n",
       "17                   household\n",
       "18                      babies\n",
       "19                      snacks\n",
       "20                        deli\n",
       "21                     missing"
      ]
     },
     "execution_count": 39,
     "metadata": {},
     "output_type": "execute_result"
    }
   ],
   "source": [
    "df_dep_t_new"
   ]
  },
  {
   "cell_type": "markdown",
   "id": "44a9feaa-b108-4e11-9bba-176babd562af",
   "metadata": {},
   "source": [
    "##### Observation: The data frame is no longer wide and the header has been fixed successfully."
   ]
  },
  {
   "cell_type": "markdown",
   "id": "ef8de148-01ae-4d87-b407-d66ef89b8561",
   "metadata": {},
   "source": [
    "##### 4. Creating Data Dictionary"
   ]
  },
  {
   "cell_type": "code",
   "execution_count": 46,
   "id": "8aaff4ba-a3cd-4de7-bc52-3bef40508986",
   "metadata": {},
   "outputs": [],
   "source": [
    "data_dict = df_dep_t_new.to_dict('index')"
   ]
  },
  {
   "cell_type": "markdown",
   "id": "f550aebc-114c-41ad-8ee9-eb50edcc56a3",
   "metadata": {},
   "source": [
    "##### 5. Task"
   ]
  },
  {
   "cell_type": "code",
   "execution_count": 52,
   "id": "9f1c9117-4e5e-4b22-8b09-10c39f532859",
   "metadata": {},
   "outputs": [],
   "source": [
    "# Step 2: Since order number it's basically an ID, I'm changing it to string.\n",
    "df_ords['order_number'] = df_ords['order_number'].astype('str')"
   ]
  },
  {
   "cell_type": "code",
   "execution_count": 58,
   "id": "2d5e515e-1dd0-43d9-bedc-11395e1726c9",
   "metadata": {},
   "outputs": [
    {
     "data": {
      "text/html": [
       "<div>\n",
       "<style scoped>\n",
       "    .dataframe tbody tr th:only-of-type {\n",
       "        vertical-align: middle;\n",
       "    }\n",
       "\n",
       "    .dataframe tbody tr th {\n",
       "        vertical-align: top;\n",
       "    }\n",
       "\n",
       "    .dataframe thead th {\n",
       "        text-align: right;\n",
       "    }\n",
       "</style>\n",
       "<table border=\"1\" class=\"dataframe\">\n",
       "  <thead>\n",
       "    <tr style=\"text-align: right;\">\n",
       "      <th></th>\n",
       "      <th>order_dow</th>\n",
       "      <th>order_hour_of_day</th>\n",
       "      <th>days_since_prior_order</th>\n",
       "    </tr>\n",
       "  </thead>\n",
       "  <tbody>\n",
       "    <tr>\n",
       "      <th>count</th>\n",
       "      <td>3.421083e+06</td>\n",
       "      <td>3.421083e+06</td>\n",
       "      <td>3.214874e+06</td>\n",
       "    </tr>\n",
       "    <tr>\n",
       "      <th>mean</th>\n",
       "      <td>2.776219e+00</td>\n",
       "      <td>1.345202e+01</td>\n",
       "      <td>1.111484e+01</td>\n",
       "    </tr>\n",
       "    <tr>\n",
       "      <th>std</th>\n",
       "      <td>2.046829e+00</td>\n",
       "      <td>4.226088e+00</td>\n",
       "      <td>9.206737e+00</td>\n",
       "    </tr>\n",
       "    <tr>\n",
       "      <th>min</th>\n",
       "      <td>0.000000e+00</td>\n",
       "      <td>0.000000e+00</td>\n",
       "      <td>0.000000e+00</td>\n",
       "    </tr>\n",
       "    <tr>\n",
       "      <th>25%</th>\n",
       "      <td>1.000000e+00</td>\n",
       "      <td>1.000000e+01</td>\n",
       "      <td>4.000000e+00</td>\n",
       "    </tr>\n",
       "    <tr>\n",
       "      <th>50%</th>\n",
       "      <td>3.000000e+00</td>\n",
       "      <td>1.300000e+01</td>\n",
       "      <td>7.000000e+00</td>\n",
       "    </tr>\n",
       "    <tr>\n",
       "      <th>75%</th>\n",
       "      <td>5.000000e+00</td>\n",
       "      <td>1.600000e+01</td>\n",
       "      <td>1.500000e+01</td>\n",
       "    </tr>\n",
       "    <tr>\n",
       "      <th>max</th>\n",
       "      <td>6.000000e+00</td>\n",
       "      <td>2.300000e+01</td>\n",
       "      <td>3.000000e+01</td>\n",
       "    </tr>\n",
       "  </tbody>\n",
       "</table>\n",
       "</div>"
      ],
      "text/plain": [
       "          order_dow  order_hour_of_day  days_since_prior_order\n",
       "count  3.421083e+06       3.421083e+06            3.214874e+06\n",
       "mean   2.776219e+00       1.345202e+01            1.111484e+01\n",
       "std    2.046829e+00       4.226088e+00            9.206737e+00\n",
       "min    0.000000e+00       0.000000e+00            0.000000e+00\n",
       "25%    1.000000e+00       1.000000e+01            4.000000e+00\n",
       "50%    3.000000e+00       1.300000e+01            7.000000e+00\n",
       "75%    5.000000e+00       1.600000e+01            1.500000e+01\n",
       "max    6.000000e+00       2.300000e+01            3.000000e+01"
      ]
     },
     "execution_count": 58,
     "metadata": {},
     "output_type": "execute_result"
    }
   ],
   "source": [
    "#checking how the data type changed\n",
    "df_ords.describe()"
   ]
  },
  {
   "cell_type": "code",
   "execution_count": 106,
   "id": "c5133b1f-e872-437b-a295-880b0f652b14",
   "metadata": {},
   "outputs": [],
   "source": [
    "#Step 3: rename column day order_dow to a more intuitive name 'orders_day_of_the_week'\n",
    "df_ords.rename(columns = {'order_dow' : 'orders_day_of_the_week'}, inplace = True)"
   ]
  },
  {
   "cell_type": "code",
   "execution_count": 62,
   "id": "2560e663-8476-455e-b8cb-9e3059d61c67",
   "metadata": {},
   "outputs": [
    {
     "data": {
      "text/plain": [
       "order_hour_of_day\n",
       "10    288418\n",
       "11    284728\n",
       "15    283639\n",
       "14    283042\n",
       "13    277999\n",
       "12    272841\n",
       "16    272553\n",
       "9     257812\n",
       "17    228795\n",
       "18    182912\n",
       "8     178201\n",
       "19    140569\n",
       "20    104292\n",
       "7      91868\n",
       "21     78109\n",
       "22     61468\n",
       "23     40043\n",
       "6      30529\n",
       "0      22758\n",
       "1      12398\n",
       "5       9569\n",
       "2       7539\n",
       "4       5527\n",
       "3       5474\n",
       "Name: count, dtype: int64"
      ]
     },
     "execution_count": 62,
     "metadata": {},
     "output_type": "execute_result"
    }
   ],
   "source": [
    "#Step 4: finding busiest hour\n",
    "df_ords['order_hour_of_day'].value_counts(dropna = True)"
   ]
  },
  {
   "cell_type": "markdown",
   "id": "4a3db2f1-cc34-49d3-8f4f-9939558da83e",
   "metadata": {},
   "source": [
    "##### Answer: The busiest time of the day to place orders is 10am, closely followed by 11:00am."
   ]
  },
  {
   "cell_type": "code",
   "execution_count": 67,
   "id": "c046fe26-c03a-4ce4-9dd7-2ec1351af1ae",
   "metadata": {},
   "outputs": [
    {
     "name": "stdout",
     "output_type": "stream",
     "text": [
      "{'department': 'produce'}\n"
     ]
    }
   ],
   "source": [
    "#Step 5: what \"4\" means in the data dictionary\n",
    "print(data_dict.get('4'))"
   ]
  },
  {
   "cell_type": "markdown",
   "id": "77f2c43b-51f1-4660-956a-2e3e8fcc46ed",
   "metadata": {},
   "source": [
    "##### Answer: The department_id \"4\" corresponds to the category \"produce\"."
   ]
  },
  {
   "cell_type": "code",
   "execution_count": 70,
   "id": "52cb0158-df56-4b98-b213-c75743299256",
   "metadata": {},
   "outputs": [
    {
     "data": {
      "text/plain": [
       "{'1': {'department': 'frozen'},\n",
       " '2': {'department': 'other'},\n",
       " '3': {'department': 'bakery'},\n",
       " '4': {'department': 'produce'},\n",
       " '5': {'department': 'alcohol'},\n",
       " '6': {'department': 'international'},\n",
       " '7': {'department': 'beverages'},\n",
       " '8': {'department': 'pets'},\n",
       " '9': {'department': 'dry goods pasta'},\n",
       " '10': {'department': 'bulk'},\n",
       " '11': {'department': 'personal care'},\n",
       " '12': {'department': 'meat seafood'},\n",
       " '13': {'department': 'pantry'},\n",
       " '14': {'department': 'breakfast'},\n",
       " '15': {'department': 'canned goods'},\n",
       " '16': {'department': 'dairy eggs'},\n",
       " '17': {'department': 'household'},\n",
       " '18': {'department': 'babies'},\n",
       " '19': {'department': 'snacks'},\n",
       " '20': {'department': 'deli'},\n",
       " '21': {'department': 'missing'}}"
      ]
     },
     "execution_count": 70,
     "metadata": {},
     "output_type": "execute_result"
    }
   ],
   "source": [
    "#Step 6: Creating subset for breakfast items. First, identify breakfast dept id:\n",
    "data_dict"
   ]
  },
  {
   "cell_type": "markdown",
   "id": "8c63e318-54b3-4192-a8c3-e5779a936978",
   "metadata": {},
   "source": [
    "##### Answer: The department_id for \"breakfast\" is 14."
   ]
  },
  {
   "cell_type": "code",
   "execution_count": 75,
   "id": "404ebc47-2093-43e4-bd21-7449268c0390",
   "metadata": {},
   "outputs": [],
   "source": [
    "#creating the subset\n",
    "df_prods_breakfast = df_prods.loc[df_prods['department_id'] == 14]"
   ]
  },
  {
   "cell_type": "code",
   "execution_count": 77,
   "id": "823784ae-9ea3-48d7-9b27-208e30e52ad5",
   "metadata": {},
   "outputs": [
    {
     "data": {
      "text/html": [
       "<div>\n",
       "<style scoped>\n",
       "    .dataframe tbody tr th:only-of-type {\n",
       "        vertical-align: middle;\n",
       "    }\n",
       "\n",
       "    .dataframe tbody tr th {\n",
       "        vertical-align: top;\n",
       "    }\n",
       "\n",
       "    .dataframe thead th {\n",
       "        text-align: right;\n",
       "    }\n",
       "</style>\n",
       "<table border=\"1\" class=\"dataframe\">\n",
       "  <thead>\n",
       "    <tr style=\"text-align: right;\">\n",
       "      <th></th>\n",
       "      <th>product_id</th>\n",
       "      <th>product_name</th>\n",
       "      <th>aisle_id</th>\n",
       "      <th>department_id</th>\n",
       "      <th>prices</th>\n",
       "    </tr>\n",
       "  </thead>\n",
       "  <tbody>\n",
       "    <tr>\n",
       "      <th>27</th>\n",
       "      <td>28</td>\n",
       "      <td>Wheat Chex Cereal</td>\n",
       "      <td>121</td>\n",
       "      <td>14</td>\n",
       "      <td>10.1</td>\n",
       "    </tr>\n",
       "    <tr>\n",
       "      <th>33</th>\n",
       "      <td>34</td>\n",
       "      <td>NaN</td>\n",
       "      <td>121</td>\n",
       "      <td>14</td>\n",
       "      <td>12.2</td>\n",
       "    </tr>\n",
       "    <tr>\n",
       "      <th>67</th>\n",
       "      <td>68</td>\n",
       "      <td>Pancake Mix, Buttermilk</td>\n",
       "      <td>130</td>\n",
       "      <td>14</td>\n",
       "      <td>13.7</td>\n",
       "    </tr>\n",
       "    <tr>\n",
       "      <th>89</th>\n",
       "      <td>90</td>\n",
       "      <td>Smorz Cereal</td>\n",
       "      <td>121</td>\n",
       "      <td>14</td>\n",
       "      <td>3.9</td>\n",
       "    </tr>\n",
       "    <tr>\n",
       "      <th>210</th>\n",
       "      <td>211</td>\n",
       "      <td>Gluten Free Organic Cereal Coconut Maple Vanilla</td>\n",
       "      <td>130</td>\n",
       "      <td>14</td>\n",
       "      <td>3.6</td>\n",
       "    </tr>\n",
       "  </tbody>\n",
       "</table>\n",
       "</div>"
      ],
      "text/plain": [
       "     product_id                                      product_name  aisle_id  \\\n",
       "27           28                                 Wheat Chex Cereal       121   \n",
       "33           34                                               NaN       121   \n",
       "67           68                           Pancake Mix, Buttermilk       130   \n",
       "89           90                                      Smorz Cereal       121   \n",
       "210         211  Gluten Free Organic Cereal Coconut Maple Vanilla       130   \n",
       "\n",
       "     department_id  prices  \n",
       "27              14    10.1  \n",
       "33              14    12.2  \n",
       "67              14    13.7  \n",
       "89              14     3.9  \n",
       "210             14     3.6  "
      ]
     },
     "execution_count": 77,
     "metadata": {},
     "output_type": "execute_result"
    }
   ],
   "source": [
    "df_prods_breakfast.head()"
   ]
  },
  {
   "cell_type": "code",
   "execution_count": 79,
   "id": "05382248-f978-43e4-913e-c1b86ec79e2f",
   "metadata": {},
   "outputs": [],
   "source": [
    "#Step 7: creating \"dinner party\" subset.\n",
    "df_prods_dinner_party = df_prods.loc[df_prods['department_id'].isin([5,7,12,20])]"
   ]
  },
  {
   "cell_type": "code",
   "execution_count": 81,
   "id": "ed5e33b6-bf28-4ab5-ac5c-abf6ae26edce",
   "metadata": {},
   "outputs": [
    {
     "data": {
      "text/plain": [
       "(7650, 5)"
      ]
     },
     "execution_count": 81,
     "metadata": {},
     "output_type": "execute_result"
    }
   ],
   "source": [
    "#Step 8: find the number of rows\n",
    "df_prods_dinner_party.shape"
   ]
  },
  {
   "cell_type": "markdown",
   "id": "73dbb6fe-31ca-404e-b2b2-2c96343a1808",
   "metadata": {},
   "source": [
    "##### Answer: The new dinner party data frame has 7650 rows."
   ]
  },
  {
   "cell_type": "code",
   "execution_count": 84,
   "id": "0ae29dca-eebb-4943-a027-8fb8990e57f2",
   "metadata": {},
   "outputs": [],
   "source": [
    "#Step 9: finding info about customer with user_id 1\n",
    "df_user1=df_ords.loc[df_ords['user_id'] == '1']"
   ]
  },
  {
   "cell_type": "code",
   "execution_count": 86,
   "id": "de975512-8957-4fa6-b612-62fd52bdc9b2",
   "metadata": {},
   "outputs": [
    {
     "data": {
      "text/html": [
       "<div>\n",
       "<style scoped>\n",
       "    .dataframe tbody tr th:only-of-type {\n",
       "        vertical-align: middle;\n",
       "    }\n",
       "\n",
       "    .dataframe tbody tr th {\n",
       "        vertical-align: top;\n",
       "    }\n",
       "\n",
       "    .dataframe thead th {\n",
       "        text-align: right;\n",
       "    }\n",
       "</style>\n",
       "<table border=\"1\" class=\"dataframe\">\n",
       "  <thead>\n",
       "    <tr style=\"text-align: right;\">\n",
       "      <th></th>\n",
       "      <th>order_id</th>\n",
       "      <th>user_id</th>\n",
       "      <th>order_number</th>\n",
       "      <th>order_dow</th>\n",
       "      <th>order_hour_of_day</th>\n",
       "      <th>days_since_prior_order</th>\n",
       "    </tr>\n",
       "  </thead>\n",
       "  <tbody>\n",
       "    <tr>\n",
       "      <th>0</th>\n",
       "      <td>2539329</td>\n",
       "      <td>1</td>\n",
       "      <td>1</td>\n",
       "      <td>2</td>\n",
       "      <td>8</td>\n",
       "      <td>NaN</td>\n",
       "    </tr>\n",
       "    <tr>\n",
       "      <th>1</th>\n",
       "      <td>2398795</td>\n",
       "      <td>1</td>\n",
       "      <td>2</td>\n",
       "      <td>3</td>\n",
       "      <td>7</td>\n",
       "      <td>15.0</td>\n",
       "    </tr>\n",
       "    <tr>\n",
       "      <th>2</th>\n",
       "      <td>473747</td>\n",
       "      <td>1</td>\n",
       "      <td>3</td>\n",
       "      <td>3</td>\n",
       "      <td>12</td>\n",
       "      <td>21.0</td>\n",
       "    </tr>\n",
       "    <tr>\n",
       "      <th>3</th>\n",
       "      <td>2254736</td>\n",
       "      <td>1</td>\n",
       "      <td>4</td>\n",
       "      <td>4</td>\n",
       "      <td>7</td>\n",
       "      <td>29.0</td>\n",
       "    </tr>\n",
       "    <tr>\n",
       "      <th>4</th>\n",
       "      <td>431534</td>\n",
       "      <td>1</td>\n",
       "      <td>5</td>\n",
       "      <td>4</td>\n",
       "      <td>15</td>\n",
       "      <td>28.0</td>\n",
       "    </tr>\n",
       "    <tr>\n",
       "      <th>5</th>\n",
       "      <td>3367565</td>\n",
       "      <td>1</td>\n",
       "      <td>6</td>\n",
       "      <td>2</td>\n",
       "      <td>7</td>\n",
       "      <td>19.0</td>\n",
       "    </tr>\n",
       "    <tr>\n",
       "      <th>6</th>\n",
       "      <td>550135</td>\n",
       "      <td>1</td>\n",
       "      <td>7</td>\n",
       "      <td>1</td>\n",
       "      <td>9</td>\n",
       "      <td>20.0</td>\n",
       "    </tr>\n",
       "    <tr>\n",
       "      <th>7</th>\n",
       "      <td>3108588</td>\n",
       "      <td>1</td>\n",
       "      <td>8</td>\n",
       "      <td>1</td>\n",
       "      <td>14</td>\n",
       "      <td>14.0</td>\n",
       "    </tr>\n",
       "    <tr>\n",
       "      <th>8</th>\n",
       "      <td>2295261</td>\n",
       "      <td>1</td>\n",
       "      <td>9</td>\n",
       "      <td>1</td>\n",
       "      <td>16</td>\n",
       "      <td>0.0</td>\n",
       "    </tr>\n",
       "    <tr>\n",
       "      <th>9</th>\n",
       "      <td>2550362</td>\n",
       "      <td>1</td>\n",
       "      <td>10</td>\n",
       "      <td>4</td>\n",
       "      <td>8</td>\n",
       "      <td>30.0</td>\n",
       "    </tr>\n",
       "    <tr>\n",
       "      <th>10</th>\n",
       "      <td>1187899</td>\n",
       "      <td>1</td>\n",
       "      <td>11</td>\n",
       "      <td>4</td>\n",
       "      <td>8</td>\n",
       "      <td>14.0</td>\n",
       "    </tr>\n",
       "  </tbody>\n",
       "</table>\n",
       "</div>"
      ],
      "text/plain": [
       "   order_id user_id order_number  order_dow  order_hour_of_day  \\\n",
       "0   2539329       1            1          2                  8   \n",
       "1   2398795       1            2          3                  7   \n",
       "2    473747       1            3          3                 12   \n",
       "3   2254736       1            4          4                  7   \n",
       "4    431534       1            5          4                 15   \n",
       "5   3367565       1            6          2                  7   \n",
       "6    550135       1            7          1                  9   \n",
       "7   3108588       1            8          1                 14   \n",
       "8   2295261       1            9          1                 16   \n",
       "9   2550362       1           10          4                  8   \n",
       "10  1187899       1           11          4                  8   \n",
       "\n",
       "    days_since_prior_order  \n",
       "0                      NaN  \n",
       "1                     15.0  \n",
       "2                     21.0  \n",
       "3                     29.0  \n",
       "4                     28.0  \n",
       "5                     19.0  \n",
       "6                     20.0  \n",
       "7                     14.0  \n",
       "8                      0.0  \n",
       "9                     30.0  \n",
       "10                    14.0  "
      ]
     },
     "execution_count": 86,
     "metadata": {},
     "output_type": "execute_result"
    }
   ],
   "source": [
    "df_user1"
   ]
  },
  {
   "cell_type": "code",
   "execution_count": 88,
   "id": "7727ee7e-61e9-459c-ad31-b8bbf8396e8c",
   "metadata": {},
   "outputs": [
    {
     "data": {
      "text/html": [
       "<div>\n",
       "<style scoped>\n",
       "    .dataframe tbody tr th:only-of-type {\n",
       "        vertical-align: middle;\n",
       "    }\n",
       "\n",
       "    .dataframe tbody tr th {\n",
       "        vertical-align: top;\n",
       "    }\n",
       "\n",
       "    .dataframe thead th {\n",
       "        text-align: right;\n",
       "    }\n",
       "</style>\n",
       "<table border=\"1\" class=\"dataframe\">\n",
       "  <thead>\n",
       "    <tr style=\"text-align: right;\">\n",
       "      <th></th>\n",
       "      <th>order_dow</th>\n",
       "      <th>order_hour_of_day</th>\n",
       "      <th>days_since_prior_order</th>\n",
       "    </tr>\n",
       "  </thead>\n",
       "  <tbody>\n",
       "    <tr>\n",
       "      <th>count</th>\n",
       "      <td>11.000000</td>\n",
       "      <td>11.000000</td>\n",
       "      <td>10.000000</td>\n",
       "    </tr>\n",
       "    <tr>\n",
       "      <th>mean</th>\n",
       "      <td>2.636364</td>\n",
       "      <td>10.090909</td>\n",
       "      <td>19.000000</td>\n",
       "    </tr>\n",
       "    <tr>\n",
       "      <th>std</th>\n",
       "      <td>1.286291</td>\n",
       "      <td>3.477198</td>\n",
       "      <td>9.030811</td>\n",
       "    </tr>\n",
       "    <tr>\n",
       "      <th>min</th>\n",
       "      <td>1.000000</td>\n",
       "      <td>7.000000</td>\n",
       "      <td>0.000000</td>\n",
       "    </tr>\n",
       "    <tr>\n",
       "      <th>25%</th>\n",
       "      <td>1.500000</td>\n",
       "      <td>7.500000</td>\n",
       "      <td>14.250000</td>\n",
       "    </tr>\n",
       "    <tr>\n",
       "      <th>50%</th>\n",
       "      <td>3.000000</td>\n",
       "      <td>8.000000</td>\n",
       "      <td>19.500000</td>\n",
       "    </tr>\n",
       "    <tr>\n",
       "      <th>75%</th>\n",
       "      <td>4.000000</td>\n",
       "      <td>13.000000</td>\n",
       "      <td>26.250000</td>\n",
       "    </tr>\n",
       "    <tr>\n",
       "      <th>max</th>\n",
       "      <td>4.000000</td>\n",
       "      <td>16.000000</td>\n",
       "      <td>30.000000</td>\n",
       "    </tr>\n",
       "  </tbody>\n",
       "</table>\n",
       "</div>"
      ],
      "text/plain": [
       "       order_dow  order_hour_of_day  days_since_prior_order\n",
       "count  11.000000          11.000000               10.000000\n",
       "mean    2.636364          10.090909               19.000000\n",
       "std     1.286291           3.477198                9.030811\n",
       "min     1.000000           7.000000                0.000000\n",
       "25%     1.500000           7.500000               14.250000\n",
       "50%     3.000000           8.000000               19.500000\n",
       "75%     4.000000          13.000000               26.250000\n",
       "max     4.000000          16.000000               30.000000"
      ]
     },
     "execution_count": 88,
     "metadata": {},
     "output_type": "execute_result"
    }
   ],
   "source": [
    "#Step 10: stats about the user's behaviour\n",
    "df_user1.describe()"
   ]
  },
  {
   "cell_type": "markdown",
   "id": "4c5f19e4-5dc3-4302-ac80-99085b846ea4",
   "metadata": {},
   "source": [
    "##### Answer: \r\n",
    "This user only places orders from Sunday to Wednesday, never from Thrusday to Saturday. More than half of the time, he places orders at 8am or earlier. He places orders on average every 19 days. He never spend more than 30 days without placing orders , has already placed 2 orders the same da.\r\n"
   ]
  },
  {
   "cell_type": "markdown",
   "id": "e181de0d-4e63-46a8-8a57-24de6a256299",
   "metadata": {},
   "source": [
    "##### 6. Task"
   ]
  },
  {
   "cell_type": "code",
   "execution_count": 108,
   "id": "a862a35c-87ed-42d6-be19-6a3da2f20e1a",
   "metadata": {},
   "outputs": [],
   "source": [
    "#export orders data frame\n",
    "df_ords.to_csv(os.path.join(path, '02. Data', 'Prepared Data', 'orders_wrangled(new).csv'))"
   ]
  },
  {
   "cell_type": "code",
   "execution_count": 104,
   "id": "e24c25cf-bb7b-4ea9-9efe-7d91b8f92351",
   "metadata": {},
   "outputs": [],
   "source": [
    "#export departments data frame\n",
    "df_dep_t_new.to_csv(os.path.join(path, '02. Data','Prepared Data', 'departments_wrangled(new).csv'))"
   ]
  }
 ],
 "metadata": {
  "kernelspec": {
   "display_name": "Python 3 (ipykernel)",
   "language": "python",
   "name": "python3"
  },
  "language_info": {
   "codemirror_mode": {
    "name": "ipython",
    "version": 3
   },
   "file_extension": ".py",
   "mimetype": "text/x-python",
   "name": "python",
   "nbconvert_exporter": "python",
   "pygments_lexer": "ipython3",
   "version": "3.12.4"
  }
 },
 "nbformat": 4,
 "nbformat_minor": 5
}
