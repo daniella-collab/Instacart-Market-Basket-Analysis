{
 "cells": [
  {
   "cell_type": "markdown",
   "id": "80d6292c-98be-4710-837d-379aa49604ba",
   "metadata": {},
   "source": [
    "##### Contents:\n",
    "###### 1. Import Libraries\n",
    "###### 2. Import data\n",
    "###### 3. Convert df_prods dataframe to int32 and float32\n",
    "###### 4. Convert df_ords_prods_combined dataframe to int32 and float32\n",
    "###### 5. Check Outputs\n",
    "###### 6. Merge dataframes - df_prods + df_ords_combined\n",
    "###### 7. Export dataframe"
   ]
  },
  {
   "cell_type": "markdown",
   "id": "7b2f04a2-8dff-446c-97fa-836dfd5c72b7",
   "metadata": {},
   "source": [
    "#### 01. Import libraries"
   ]
  },
  {
   "cell_type": "code",
   "execution_count": 1,
   "id": "1ca30ee6-a69c-4ab4-bcf3-b48ffeb32989",
   "metadata": {},
   "outputs": [],
   "source": [
    "# Import libraries\n",
    "import pandas as pd\n",
    "import numpy as np\n",
    "import os"
   ]
  },
  {
   "cell_type": "code",
   "execution_count": 3,
   "id": "91a46370-f986-4f2e-b4e2-d2c766e97ef6",
   "metadata": {},
   "outputs": [],
   "source": [
    "path = r'C:\\Users\\Daniella\\ACH4 - Instacart Basket Analysis'"
   ]
  },
  {
   "cell_type": "markdown",
   "id": "b2fe7861-fac6-4835-ac9e-26c32118360f",
   "metadata": {},
   "source": [
    "#### 02. Import data"
   ]
  },
  {
   "cell_type": "code",
   "execution_count": 5,
   "id": "20bf20dc-1aa9-46df-81e9-32571c3956da",
   "metadata": {},
   "outputs": [],
   "source": [
    "df_ords_prods_combined = pd.read_pickle(os.path.join(path, '02. Data' , 'Prepared Data' , 'orders_products_combined(new).pkl'))"
   ]
  },
  {
   "cell_type": "code",
   "execution_count": 6,
   "id": "7ec613d1-f167-476b-b6bb-e273d1a6f131",
   "metadata": {},
   "outputs": [],
   "source": [
    "df_prods = pd.read_csv(os.path.join(path, '02. Data' , 'Prepared Data', 'products_checked(new).csv'), index_col = False)"
   ]
  },
  {
   "cell_type": "markdown",
   "id": "473fe684-5d1d-4680-9d2b-412c11741ae9",
   "metadata": {},
   "source": [
    "#### 03. Convert df_prods dataframe to int32 and float32"
   ]
  },
  {
   "cell_type": "code",
   "execution_count": 11,
   "id": "6375789c-9749-43b2-9b2e-b15dfebc13fc",
   "metadata": {},
   "outputs": [],
   "source": [
    "# Convert the 'product_id' column to int32\n",
    "df_prods['product_id'] = df_prods['product_id'].astype('int32')"
   ]
  },
  {
   "cell_type": "code",
   "execution_count": 13,
   "id": "f7d9b250-3731-497d-beb0-d693db120066",
   "metadata": {},
   "outputs": [],
   "source": [
    "# Convert the 'aisle_id' column to int32\n",
    "df_prods['aisle_id'] = df_prods['aisle_id'].astype('int32')"
   ]
  },
  {
   "cell_type": "code",
   "execution_count": 15,
   "id": "9dae3874-641a-4b75-a30f-572a9ac8edd3",
   "metadata": {},
   "outputs": [],
   "source": [
    "# Convert the 'prices' column to float32\n",
    "df_prods['prices'] = df_prods['prices'].astype('float32')"
   ]
  },
  {
   "cell_type": "code",
   "execution_count": 17,
   "id": "d590dd0a-2257-4219-857f-00b3e190d06f",
   "metadata": {},
   "outputs": [],
   "source": [
    "# Convert the 'department_id' column to int32\n",
    "df_prods['department_id'] = df_prods['department_id'].astype('int32')"
   ]
  },
  {
   "cell_type": "code",
   "execution_count": 21,
   "id": "8707cf59-96f0-4fe8-a97e-54d88c12278a",
   "metadata": {},
   "outputs": [],
   "source": [
    "# Drop unnecessary columns,\n",
    "df_prods = df_prods.drop(['Unnamed: 0'], axis=1)"
   ]
  },
  {
   "cell_type": "code",
   "execution_count": 24,
   "id": "14cba2b4-c3b5-46a7-a23f-ee63acce76b1",
   "metadata": {},
   "outputs": [
    {
     "name": "stdout",
     "output_type": "stream",
     "text": [
      "product_id         int32\n",
      "product_name      object\n",
      "aisle_id           int32\n",
      "department_id      int32\n",
      "prices           float32\n",
      "dtype: object\n"
     ]
    }
   ],
   "source": [
    "##Check dtypes for df_prods:\n",
    "print(df_prods.dtypes)"
   ]
  },
  {
   "cell_type": "markdown",
   "id": "b149fc0e-f504-4d9f-be58-1cc78e678dcf",
   "metadata": {},
   "source": [
    "#### 04. Convert df_ords_prods_combined dataframe to int32 and float32"
   ]
  },
  {
   "cell_type": "code",
   "execution_count": null,
   "id": "57480706-b76b-4622-a5c2-78d9148249bf",
   "metadata": {},
   "outputs": [],
   "source": [
    "# Drop unnecessary columns:\n",
    "df_ords_prods_combined = df_ords_prods_combined.drop(['_merge'], axis=1)"
   ]
  },
  {
   "cell_type": "code",
   "execution_count": 28,
   "id": "6e03f26b-61c7-4194-a1fa-bf9ba690f959",
   "metadata": {},
   "outputs": [
    {
     "name": "stdout",
     "output_type": "stream",
     "text": [
      "order_id                    int32\n",
      "user_id                     int32\n",
      "order_number                int32\n",
      "orders_day_of_the_week      int32\n",
      "order_hour_of_day           int32\n",
      "days_since_prior_order    float32\n",
      "product_id                  int32\n",
      "add_to_cart_order           int32\n",
      "reordered                   int32\n",
      "dtype: object\n"
     ]
    }
   ],
   "source": [
    "print(df_ords_prods_combined.dtypes)"
   ]
  },
  {
   "cell_type": "code",
   "execution_count": 30,
   "id": "40aa1379-b0c0-47c6-9e5a-c1a51742b919",
   "metadata": {},
   "outputs": [],
   "source": [
    "# Convert the 'order_id' column to int32\n",
    "df_ords_prods_combined['order_id'] = df_ords_prods_combined['order_id'].astype('int32')"
   ]
  },
  {
   "cell_type": "code",
   "execution_count": 32,
   "id": "e67d991a-f005-4f8a-bac8-e5b2754d7e02",
   "metadata": {},
   "outputs": [],
   "source": [
    "# Convert the 'user_id' column to int32\n",
    "df_ords_prods_combined['user_id'] = df_ords_prods_combined['user_id'].astype('int32')"
   ]
  },
  {
   "cell_type": "code",
   "execution_count": 34,
   "id": "5373cff9-d342-4ae3-8da8-9343cd05dcfd",
   "metadata": {},
   "outputs": [],
   "source": [
    "# Convert the 'order_number' column to int32\n",
    "df_ords_prods_combined['order_number'] = df_ords_prods_combined['order_number'].astype('int32')"
   ]
  },
  {
   "cell_type": "code",
   "execution_count": 36,
   "id": "3017afca-e0bc-4442-980b-019a8400fa23",
   "metadata": {},
   "outputs": [],
   "source": [
    "# Convert the 'order_dow' column to int32\n",
    "df_ords_prods_combined['orders_day_of_the_week'] = df_ords_prods_combined['orders_day_of_the_week'].astype('int32')"
   ]
  },
  {
   "cell_type": "code",
   "execution_count": 38,
   "id": "974fc18e-e723-4e35-a688-67f74262de21",
   "metadata": {},
   "outputs": [],
   "source": [
    "# Convert the 'order_hour_of_day' column to int32\n",
    "df_ords_prods_combined['order_hour_of_day'] = df_ords_prods_combined['order_hour_of_day'].astype('int32')"
   ]
  },
  {
   "cell_type": "code",
   "execution_count": 40,
   "id": "c744fff7-ecf4-4ae0-ac58-3fffa6c4ce06",
   "metadata": {},
   "outputs": [],
   "source": [
    "df_ords_prods_combined['days_since_prior_order'] = df_ords_prods_combined['days_since_prior_order'].astype('float32')"
   ]
  },
  {
   "cell_type": "code",
   "execution_count": 42,
   "id": "57d2f578-4475-4708-9b54-5f22cdfc8d24",
   "metadata": {},
   "outputs": [],
   "source": [
    "df_ords_prods_combined['product_id'] = df_ords_prods_combined['product_id'].astype('int32')"
   ]
  },
  {
   "cell_type": "code",
   "execution_count": 44,
   "id": "8d98257b-0b66-4b5a-baff-e79f08928696",
   "metadata": {},
   "outputs": [],
   "source": [
    "df_ords_prods_combined['add_to_cart_order'] = df_ords_prods_combined['add_to_cart_order'].astype('int32')"
   ]
  },
  {
   "cell_type": "code",
   "execution_count": 46,
   "id": "a909b205-663e-4c8c-b6ca-6322f1350b91",
   "metadata": {},
   "outputs": [],
   "source": [
    "df_ords_prods_combined['reordered'] = df_ords_prods_combined['reordered'].astype('int32')"
   ]
  },
  {
   "cell_type": "markdown",
   "id": "6406d3b3-2c3d-428f-8b11-94d9de5eab7c",
   "metadata": {},
   "source": [
    "### 05. Check Outputs"
   ]
  },
  {
   "cell_type": "code",
   "execution_count": 48,
   "id": "cd53706a-aea6-4100-8cbc-2d33a1f02321",
   "metadata": {},
   "outputs": [
    {
     "data": {
      "text/html": [
       "<div>\n",
       "<style scoped>\n",
       "    .dataframe tbody tr th:only-of-type {\n",
       "        vertical-align: middle;\n",
       "    }\n",
       "\n",
       "    .dataframe tbody tr th {\n",
       "        vertical-align: top;\n",
       "    }\n",
       "\n",
       "    .dataframe thead th {\n",
       "        text-align: right;\n",
       "    }\n",
       "</style>\n",
       "<table border=\"1\" class=\"dataframe\">\n",
       "  <thead>\n",
       "    <tr style=\"text-align: right;\">\n",
       "      <th></th>\n",
       "      <th>product_id</th>\n",
       "      <th>product_name</th>\n",
       "      <th>aisle_id</th>\n",
       "      <th>department_id</th>\n",
       "      <th>prices</th>\n",
       "    </tr>\n",
       "  </thead>\n",
       "  <tbody>\n",
       "    <tr>\n",
       "      <th>0</th>\n",
       "      <td>1</td>\n",
       "      <td>Chocolate Sandwich Cookies</td>\n",
       "      <td>61</td>\n",
       "      <td>19</td>\n",
       "      <td>5.8</td>\n",
       "    </tr>\n",
       "    <tr>\n",
       "      <th>1</th>\n",
       "      <td>2</td>\n",
       "      <td>All-Seasons Salt</td>\n",
       "      <td>104</td>\n",
       "      <td>13</td>\n",
       "      <td>9.3</td>\n",
       "    </tr>\n",
       "    <tr>\n",
       "      <th>2</th>\n",
       "      <td>3</td>\n",
       "      <td>Robust Golden Unsweetened Oolong Tea</td>\n",
       "      <td>94</td>\n",
       "      <td>7</td>\n",
       "      <td>4.5</td>\n",
       "    </tr>\n",
       "    <tr>\n",
       "      <th>3</th>\n",
       "      <td>4</td>\n",
       "      <td>Smart Ones Classic Favorites Mini Rigatoni Wit...</td>\n",
       "      <td>38</td>\n",
       "      <td>1</td>\n",
       "      <td>10.5</td>\n",
       "    </tr>\n",
       "    <tr>\n",
       "      <th>4</th>\n",
       "      <td>5</td>\n",
       "      <td>Green Chile Anytime Sauce</td>\n",
       "      <td>5</td>\n",
       "      <td>13</td>\n",
       "      <td>4.3</td>\n",
       "    </tr>\n",
       "  </tbody>\n",
       "</table>\n",
       "</div>"
      ],
      "text/plain": [
       "   product_id                                       product_name  aisle_id  \\\n",
       "0           1                         Chocolate Sandwich Cookies        61   \n",
       "1           2                                   All-Seasons Salt       104   \n",
       "2           3               Robust Golden Unsweetened Oolong Tea        94   \n",
       "3           4  Smart Ones Classic Favorites Mini Rigatoni Wit...        38   \n",
       "4           5                          Green Chile Anytime Sauce         5   \n",
       "\n",
       "   department_id  prices  \n",
       "0             19     5.8  \n",
       "1             13     9.3  \n",
       "2              7     4.5  \n",
       "3              1    10.5  \n",
       "4             13     4.3  "
      ]
     },
     "execution_count": 48,
     "metadata": {},
     "output_type": "execute_result"
    }
   ],
   "source": [
    "df_prods.head()"
   ]
  },
  {
   "cell_type": "code",
   "execution_count": 65,
   "id": "9fd4b289-3abd-4fd6-b8ba-1f408c47ce69",
   "metadata": {},
   "outputs": [
    {
     "data": {
      "text/plain": [
       "(49672, 5)"
      ]
     },
     "execution_count": 65,
     "metadata": {},
     "output_type": "execute_result"
    }
   ],
   "source": [
    "df_prods.shape"
   ]
  },
  {
   "cell_type": "code",
   "execution_count": 78,
   "id": "f103c867-a5b5-4a38-a606-0af995a47098",
   "metadata": {},
   "outputs": [
    {
     "data": {
      "text/html": [
       "<div>\n",
       "<style scoped>\n",
       "    .dataframe tbody tr th:only-of-type {\n",
       "        vertical-align: middle;\n",
       "    }\n",
       "\n",
       "    .dataframe tbody tr th {\n",
       "        vertical-align: top;\n",
       "    }\n",
       "\n",
       "    .dataframe thead th {\n",
       "        text-align: right;\n",
       "    }\n",
       "</style>\n",
       "<table border=\"1\" class=\"dataframe\">\n",
       "  <thead>\n",
       "    <tr style=\"text-align: right;\">\n",
       "      <th></th>\n",
       "      <th>order_id</th>\n",
       "      <th>user_id</th>\n",
       "      <th>order_number</th>\n",
       "      <th>orders_day_of_the_week</th>\n",
       "      <th>order_hour_of_day</th>\n",
       "      <th>days_since_prior_order</th>\n",
       "      <th>product_id</th>\n",
       "      <th>add_to_cart_order</th>\n",
       "      <th>reordered</th>\n",
       "    </tr>\n",
       "  </thead>\n",
       "  <tbody>\n",
       "    <tr>\n",
       "      <th>0</th>\n",
       "      <td>2539329</td>\n",
       "      <td>1</td>\n",
       "      <td>1</td>\n",
       "      <td>2</td>\n",
       "      <td>8</td>\n",
       "      <td>NaN</td>\n",
       "      <td>196</td>\n",
       "      <td>1</td>\n",
       "      <td>0</td>\n",
       "    </tr>\n",
       "    <tr>\n",
       "      <th>1</th>\n",
       "      <td>2539329</td>\n",
       "      <td>1</td>\n",
       "      <td>1</td>\n",
       "      <td>2</td>\n",
       "      <td>8</td>\n",
       "      <td>NaN</td>\n",
       "      <td>14084</td>\n",
       "      <td>2</td>\n",
       "      <td>0</td>\n",
       "    </tr>\n",
       "    <tr>\n",
       "      <th>2</th>\n",
       "      <td>2539329</td>\n",
       "      <td>1</td>\n",
       "      <td>1</td>\n",
       "      <td>2</td>\n",
       "      <td>8</td>\n",
       "      <td>NaN</td>\n",
       "      <td>12427</td>\n",
       "      <td>3</td>\n",
       "      <td>0</td>\n",
       "    </tr>\n",
       "    <tr>\n",
       "      <th>3</th>\n",
       "      <td>2539329</td>\n",
       "      <td>1</td>\n",
       "      <td>1</td>\n",
       "      <td>2</td>\n",
       "      <td>8</td>\n",
       "      <td>NaN</td>\n",
       "      <td>26088</td>\n",
       "      <td>4</td>\n",
       "      <td>0</td>\n",
       "    </tr>\n",
       "    <tr>\n",
       "      <th>4</th>\n",
       "      <td>2539329</td>\n",
       "      <td>1</td>\n",
       "      <td>1</td>\n",
       "      <td>2</td>\n",
       "      <td>8</td>\n",
       "      <td>NaN</td>\n",
       "      <td>26405</td>\n",
       "      <td>5</td>\n",
       "      <td>0</td>\n",
       "    </tr>\n",
       "  </tbody>\n",
       "</table>\n",
       "</div>"
      ],
      "text/plain": [
       "   order_id  user_id  order_number  orders_day_of_the_week  order_hour_of_day  \\\n",
       "0   2539329        1             1                       2                  8   \n",
       "1   2539329        1             1                       2                  8   \n",
       "2   2539329        1             1                       2                  8   \n",
       "3   2539329        1             1                       2                  8   \n",
       "4   2539329        1             1                       2                  8   \n",
       "\n",
       "   days_since_prior_order  product_id  add_to_cart_order  reordered  \n",
       "0                     NaN         196                  1          0  \n",
       "1                     NaN       14084                  2          0  \n",
       "2                     NaN       12427                  3          0  \n",
       "3                     NaN       26088                  4          0  \n",
       "4                     NaN       26405                  5          0  "
      ]
     },
     "execution_count": 78,
     "metadata": {},
     "output_type": "execute_result"
    }
   ],
   "source": [
    "df_ords_prods_combined.head()"
   ]
  },
  {
   "cell_type": "code",
   "execution_count": 58,
   "id": "f1523383-cdbd-4752-96bf-312c1eb30ec8",
   "metadata": {},
   "outputs": [
    {
     "data": {
      "text/plain": [
       "(32434489, 9)"
      ]
     },
     "execution_count": 58,
     "metadata": {},
     "output_type": "execute_result"
    }
   ],
   "source": [
    "df_ords_prods_combined.shape"
   ]
  },
  {
   "cell_type": "markdown",
   "id": "24adffc2-94a5-42ad-afbe-3d1c6755b6eb",
   "metadata": {},
   "source": [
    "#### 06. Merge dataframes - df_prods + df_ords_combined"
   ]
  },
  {
   "cell_type": "code",
   "execution_count": 62,
   "id": "a6330a33-aa4b-435f-9964-b85566cb08e4",
   "metadata": {},
   "outputs": [],
   "source": [
    "df_ords_prods_merge = df_ords_prods_combined.merge(df_prods, on = 'product_id', indicator = True)"
   ]
  },
  {
   "cell_type": "code",
   "execution_count": 54,
   "id": "6b0cdf1f-6d00-491e-a4c1-7cd93ab03aa1",
   "metadata": {},
   "outputs": [
    {
     "data": {
      "text/html": [
       "<div>\n",
       "<style scoped>\n",
       "    .dataframe tbody tr th:only-of-type {\n",
       "        vertical-align: middle;\n",
       "    }\n",
       "\n",
       "    .dataframe tbody tr th {\n",
       "        vertical-align: top;\n",
       "    }\n",
       "\n",
       "    .dataframe thead th {\n",
       "        text-align: right;\n",
       "    }\n",
       "</style>\n",
       "<table border=\"1\" class=\"dataframe\">\n",
       "  <thead>\n",
       "    <tr style=\"text-align: right;\">\n",
       "      <th></th>\n",
       "      <th>order_id</th>\n",
       "      <th>user_id</th>\n",
       "      <th>order_number</th>\n",
       "      <th>orders_day_of_the_week</th>\n",
       "      <th>order_hour_of_day</th>\n",
       "      <th>days_since_prior_order</th>\n",
       "      <th>product_id</th>\n",
       "      <th>add_to_cart_order</th>\n",
       "      <th>reordered</th>\n",
       "      <th>product_name</th>\n",
       "      <th>aisle_id</th>\n",
       "      <th>department_id</th>\n",
       "      <th>prices</th>\n",
       "      <th>_merge</th>\n",
       "    </tr>\n",
       "  </thead>\n",
       "  <tbody>\n",
       "    <tr>\n",
       "      <th>0</th>\n",
       "      <td>2539329</td>\n",
       "      <td>1</td>\n",
       "      <td>1</td>\n",
       "      <td>2</td>\n",
       "      <td>8</td>\n",
       "      <td>NaN</td>\n",
       "      <td>196</td>\n",
       "      <td>1</td>\n",
       "      <td>0</td>\n",
       "      <td>Soda</td>\n",
       "      <td>77</td>\n",
       "      <td>7</td>\n",
       "      <td>9.0</td>\n",
       "      <td>both</td>\n",
       "    </tr>\n",
       "    <tr>\n",
       "      <th>1</th>\n",
       "      <td>2539329</td>\n",
       "      <td>1</td>\n",
       "      <td>1</td>\n",
       "      <td>2</td>\n",
       "      <td>8</td>\n",
       "      <td>NaN</td>\n",
       "      <td>14084</td>\n",
       "      <td>2</td>\n",
       "      <td>0</td>\n",
       "      <td>Organic Unsweetened Vanilla Almond Milk</td>\n",
       "      <td>91</td>\n",
       "      <td>16</td>\n",
       "      <td>12.5</td>\n",
       "      <td>both</td>\n",
       "    </tr>\n",
       "    <tr>\n",
       "      <th>2</th>\n",
       "      <td>2539329</td>\n",
       "      <td>1</td>\n",
       "      <td>1</td>\n",
       "      <td>2</td>\n",
       "      <td>8</td>\n",
       "      <td>NaN</td>\n",
       "      <td>12427</td>\n",
       "      <td>3</td>\n",
       "      <td>0</td>\n",
       "      <td>Original Beef Jerky</td>\n",
       "      <td>23</td>\n",
       "      <td>19</td>\n",
       "      <td>4.4</td>\n",
       "      <td>both</td>\n",
       "    </tr>\n",
       "    <tr>\n",
       "      <th>3</th>\n",
       "      <td>2539329</td>\n",
       "      <td>1</td>\n",
       "      <td>1</td>\n",
       "      <td>2</td>\n",
       "      <td>8</td>\n",
       "      <td>NaN</td>\n",
       "      <td>26088</td>\n",
       "      <td>4</td>\n",
       "      <td>0</td>\n",
       "      <td>Aged White Cheddar Popcorn</td>\n",
       "      <td>23</td>\n",
       "      <td>19</td>\n",
       "      <td>4.7</td>\n",
       "      <td>both</td>\n",
       "    </tr>\n",
       "    <tr>\n",
       "      <th>4</th>\n",
       "      <td>2539329</td>\n",
       "      <td>1</td>\n",
       "      <td>1</td>\n",
       "      <td>2</td>\n",
       "      <td>8</td>\n",
       "      <td>NaN</td>\n",
       "      <td>26405</td>\n",
       "      <td>5</td>\n",
       "      <td>0</td>\n",
       "      <td>XL Pick-A-Size Paper Towel Rolls</td>\n",
       "      <td>54</td>\n",
       "      <td>17</td>\n",
       "      <td>1.0</td>\n",
       "      <td>both</td>\n",
       "    </tr>\n",
       "  </tbody>\n",
       "</table>\n",
       "</div>"
      ],
      "text/plain": [
       "   order_id  user_id  order_number  orders_day_of_the_week  order_hour_of_day  \\\n",
       "0   2539329        1             1                       2                  8   \n",
       "1   2539329        1             1                       2                  8   \n",
       "2   2539329        1             1                       2                  8   \n",
       "3   2539329        1             1                       2                  8   \n",
       "4   2539329        1             1                       2                  8   \n",
       "\n",
       "   days_since_prior_order  product_id  add_to_cart_order  reordered  \\\n",
       "0                     NaN         196                  1          0   \n",
       "1                     NaN       14084                  2          0   \n",
       "2                     NaN       12427                  3          0   \n",
       "3                     NaN       26088                  4          0   \n",
       "4                     NaN       26405                  5          0   \n",
       "\n",
       "                              product_name  aisle_id  department_id  prices  \\\n",
       "0                                     Soda        77              7     9.0   \n",
       "1  Organic Unsweetened Vanilla Almond Milk        91             16    12.5   \n",
       "2                      Original Beef Jerky        23             19     4.4   \n",
       "3               Aged White Cheddar Popcorn        23             19     4.7   \n",
       "4         XL Pick-A-Size Paper Towel Rolls        54             17     1.0   \n",
       "\n",
       "  _merge  \n",
       "0   both  \n",
       "1   both  \n",
       "2   both  \n",
       "3   both  \n",
       "4   both  "
      ]
     },
     "execution_count": 54,
     "metadata": {},
     "output_type": "execute_result"
    }
   ],
   "source": [
    "df_ords_prods_merge.head()"
   ]
  },
  {
   "cell_type": "code",
   "execution_count": 7,
   "id": "c2788bbd-0888-421b-907d-9fedf93c3b74",
   "metadata": {},
   "outputs": [
    {
     "ename": "NameError",
     "evalue": "name 'df_ords_prods_merge' is not defined",
     "output_type": "error",
     "traceback": [
      "\u001b[1;31m---------------------------------------------------------------------------\u001b[0m",
      "\u001b[1;31mNameError\u001b[0m                                 Traceback (most recent call last)",
      "Cell \u001b[1;32mIn[7], line 2\u001b[0m\n\u001b[0;32m      1\u001b[0m \u001b[38;5;66;03m#Confirm the results of the merge using the merge flag.\u001b[39;00m\n\u001b[1;32m----> 2\u001b[0m df_ords_prods_merge[\u001b[38;5;124m'\u001b[39m\u001b[38;5;124m_merge\u001b[39m\u001b[38;5;124m'\u001b[39m]\u001b[38;5;241m.\u001b[39mvalue_counts()\n",
      "\u001b[1;31mNameError\u001b[0m: name 'df_ords_prods_merge' is not defined"
     ]
    }
   ],
   "source": [
    "#Confirm the results of the merge using the merge flag.\n",
    "df_ords_prods_merge['_merge'].value_counts()"
   ]
  },
  {
   "cell_type": "markdown",
   "id": "08ab63e6-6ec1-4c96-b6a2-4f2d8b301791",
   "metadata": {},
   "source": [
    "#### 07. Import libraries"
   ]
  },
  {
   "cell_type": "code",
   "execution_count": 68,
   "id": "96172a9b-74f5-4047-aec5-d65fd1d2f88b",
   "metadata": {},
   "outputs": [],
   "source": [
    "# Export data to pkl\n",
    "df_ords_prods_merge.to_pickle(os.path.join(path, '02. Data','Prepared Data', 'ords_prods_merge(new).pkl'))"
   ]
  }
 ],
 "metadata": {
  "kernelspec": {
   "display_name": "Python 3 (ipykernel)",
   "language": "python",
   "name": "python3"
  },
  "language_info": {
   "codemirror_mode": {
    "name": "ipython",
    "version": 3
   },
   "file_extension": ".py",
   "mimetype": "text/x-python",
   "name": "python",
   "nbconvert_exporter": "python",
   "pygments_lexer": "ipython3",
   "version": "3.12.4"
  }
 },
 "nbformat": 4,
 "nbformat_minor": 5
}
