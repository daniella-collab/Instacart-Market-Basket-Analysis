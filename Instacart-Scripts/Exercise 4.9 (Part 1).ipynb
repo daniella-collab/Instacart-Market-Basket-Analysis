{
 "cells": [
  {
   "cell_type": "markdown",
   "id": "7d9f2b90-0c34-4e60-89ef-d4fd1d9481a3",
   "metadata": {},
   "source": [
    "##### Contents:\n",
    "###### 1. Import Libraries\n",
    "###### 2. Import customers dataframe\n",
    "###### 3. Data wrangling\n",
    "###### 4. Consistency checks\n",
    "###### 5. Combine dataframes\n",
    "###### 6. Drop Unnecessary columns\n",
    "###### 7. Merge dataframe\n",
    "###### 8. Export dataframe"
   ]
  },
  {
   "cell_type": "markdown",
   "id": "d9bbd015-59e8-494c-8d37-07652b3460d2",
   "metadata": {},
   "source": [
    "##### 1. Import Libraries"
   ]
  },
  {
   "cell_type": "code",
   "execution_count": 1,
   "id": "9a645586-535c-4cda-83f7-96759fd32651",
   "metadata": {},
   "outputs": [],
   "source": [
    "# Import libraries\n",
    "import pandas as pd\n",
    "import numpy as np\n",
    "import os\n",
    "import matplotlib.pyplot as plt\n",
    "import seaborn as sns\n",
    "import scipy"
   ]
  },
  {
   "cell_type": "markdown",
   "id": "ab48c7c6-7b15-47e3-851f-a6dcc5dd64db",
   "metadata": {},
   "source": [
    "##### 2. Import customers dataframe:"
   ]
  },
  {
   "cell_type": "code",
   "execution_count": 3,
   "id": "70b0b3cf-3b7b-4f7a-9ac8-cd9d52947a6a",
   "metadata": {},
   "outputs": [],
   "source": [
    "path = r'C:\\Users\\Daniella\\ACH4 - Instacart Basket Analysis'"
   ]
  },
  {
   "cell_type": "code",
   "execution_count": 7,
   "id": "794163d1-f8b6-4893-aef0-dd0f894ea90f",
   "metadata": {},
   "outputs": [],
   "source": [
    "df_customers = pd.read_csv(os.path.join(path, '02. Data', 'Original Data', 'customers.csv'))"
   ]
  },
  {
   "cell_type": "code",
   "execution_count": 7,
   "id": "5d99cae1-c4d8-447d-be3b-962153ddab73",
   "metadata": {},
   "outputs": [],
   "source": [
    "# Import ords_prods_merg dataframe\n",
    "ords_prods_merge = pd.read_pickle(os.path.join(path, '02. Data', 'Prepared Data', 'ords_prods_grouped.pkl'))"
   ]
  },
  {
   "cell_type": "markdown",
   "id": "1ee62a5e-bfcc-4cc9-ae25-b92f68c6e996",
   "metadata": {},
   "source": [
    "##### 3. Data wrangling"
   ]
  },
  {
   "cell_type": "code",
   "execution_count": 19,
   "id": "6d5c71ee-aeed-49bf-8b4e-5a73d48fbed6",
   "metadata": {},
   "outputs": [
    {
     "data": {
      "text/html": [
       "<div>\n",
       "<style scoped>\n",
       "    .dataframe tbody tr th:only-of-type {\n",
       "        vertical-align: middle;\n",
       "    }\n",
       "\n",
       "    .dataframe tbody tr th {\n",
       "        vertical-align: top;\n",
       "    }\n",
       "\n",
       "    .dataframe thead th {\n",
       "        text-align: right;\n",
       "    }\n",
       "</style>\n",
       "<table border=\"1\" class=\"dataframe\">\n",
       "  <thead>\n",
       "    <tr style=\"text-align: right;\">\n",
       "      <th></th>\n",
       "      <th>user_id</th>\n",
       "      <th>First Name</th>\n",
       "      <th>Surname</th>\n",
       "      <th>Gender</th>\n",
       "      <th>State</th>\n",
       "      <th>Age</th>\n",
       "      <th>date_joined</th>\n",
       "      <th>Nº of dependants</th>\n",
       "      <th>Family status</th>\n",
       "      <th>income</th>\n",
       "    </tr>\n",
       "  </thead>\n",
       "  <tbody>\n",
       "    <tr>\n",
       "      <th>0</th>\n",
       "      <td>26711</td>\n",
       "      <td>Deborah</td>\n",
       "      <td>Esquivel</td>\n",
       "      <td>Female</td>\n",
       "      <td>Missouri</td>\n",
       "      <td>48</td>\n",
       "      <td>1/1/2017</td>\n",
       "      <td>3</td>\n",
       "      <td>married</td>\n",
       "      <td>165665</td>\n",
       "    </tr>\n",
       "    <tr>\n",
       "      <th>1</th>\n",
       "      <td>33890</td>\n",
       "      <td>Patricia</td>\n",
       "      <td>Hart</td>\n",
       "      <td>Female</td>\n",
       "      <td>New Mexico</td>\n",
       "      <td>36</td>\n",
       "      <td>1/1/2017</td>\n",
       "      <td>0</td>\n",
       "      <td>single</td>\n",
       "      <td>59285</td>\n",
       "    </tr>\n",
       "    <tr>\n",
       "      <th>2</th>\n",
       "      <td>65803</td>\n",
       "      <td>Kenneth</td>\n",
       "      <td>Farley</td>\n",
       "      <td>Male</td>\n",
       "      <td>Idaho</td>\n",
       "      <td>35</td>\n",
       "      <td>1/1/2017</td>\n",
       "      <td>2</td>\n",
       "      <td>married</td>\n",
       "      <td>99568</td>\n",
       "    </tr>\n",
       "    <tr>\n",
       "      <th>3</th>\n",
       "      <td>125935</td>\n",
       "      <td>Michelle</td>\n",
       "      <td>Hicks</td>\n",
       "      <td>Female</td>\n",
       "      <td>Iowa</td>\n",
       "      <td>40</td>\n",
       "      <td>1/1/2017</td>\n",
       "      <td>0</td>\n",
       "      <td>single</td>\n",
       "      <td>42049</td>\n",
       "    </tr>\n",
       "    <tr>\n",
       "      <th>4</th>\n",
       "      <td>130797</td>\n",
       "      <td>Ann</td>\n",
       "      <td>Gilmore</td>\n",
       "      <td>Female</td>\n",
       "      <td>Maryland</td>\n",
       "      <td>26</td>\n",
       "      <td>1/1/2017</td>\n",
       "      <td>1</td>\n",
       "      <td>married</td>\n",
       "      <td>40374</td>\n",
       "    </tr>\n",
       "  </tbody>\n",
       "</table>\n",
       "</div>"
      ],
      "text/plain": [
       "   user_id First Name   Surname  Gender       State  Age date_joined  \\\n",
       "0    26711    Deborah  Esquivel  Female    Missouri   48    1/1/2017   \n",
       "1    33890   Patricia      Hart  Female  New Mexico   36    1/1/2017   \n",
       "2    65803    Kenneth    Farley    Male       Idaho   35    1/1/2017   \n",
       "3   125935   Michelle     Hicks  Female        Iowa   40    1/1/2017   \n",
       "4   130797        Ann   Gilmore  Female    Maryland   26    1/1/2017   \n",
       "\n",
       "   Nº of dependants Family status  income  \n",
       "0                 3       married  165665  \n",
       "1                 0        single   59285  \n",
       "2                 2       married   99568  \n",
       "3                 0        single   42049  \n",
       "4                 1       married   40374  "
      ]
     },
     "execution_count": 19,
     "metadata": {},
     "output_type": "execute_result"
    }
   ],
   "source": [
    "df_customers.head()"
   ]
  },
  {
   "cell_type": "code",
   "execution_count": 21,
   "id": "43cc2a49-53b4-47bf-a6bc-cfa715fa45c9",
   "metadata": {},
   "outputs": [
    {
     "data": {
      "text/plain": [
       "(206209, 10)"
      ]
     },
     "execution_count": 21,
     "metadata": {},
     "output_type": "execute_result"
    }
   ],
   "source": [
    "df_customers.shape"
   ]
  },
  {
   "cell_type": "code",
   "execution_count": 11,
   "id": "4d402d99-23df-469c-af16-4e464781cbce",
   "metadata": {},
   "outputs": [],
   "source": [
    "# Renaming columns:\n",
    "df_customers.rename(columns={'Surnam': 'Surname'}, inplace=True)"
   ]
  },
  {
   "cell_type": "code",
   "execution_count": 13,
   "id": "a7d4ba71-3e51-45fa-8119-65d8dd9f0e03",
   "metadata": {},
   "outputs": [],
   "source": [
    "df_customers.rename(columns={'STATE': 'State'}, inplace=True)"
   ]
  },
  {
   "cell_type": "code",
   "execution_count": 15,
   "id": "0bebe04f-2e79-4710-a1f8-56f4e11ace9b",
   "metadata": {},
   "outputs": [],
   "source": [
    "df_customers.rename(columns={'n_dependants': 'Nº of dependants'}, inplace=True)"
   ]
  },
  {
   "cell_type": "code",
   "execution_count": 17,
   "id": "d0d31b72-859e-4ccb-bd5a-92d3c9f10053",
   "metadata": {},
   "outputs": [],
   "source": [
    "df_customers.rename(columns={'fam_status': 'Family status'}, inplace=True)"
   ]
  },
  {
   "cell_type": "markdown",
   "id": "5b4c6f0d-ca34-4824-a6f1-e45035db4555",
   "metadata": {},
   "source": [
    "##### 4. Consistency checks"
   ]
  },
  {
   "cell_type": "code",
   "execution_count": 23,
   "id": "b3079be4-140b-4e2e-9917-379361d1e2c0",
   "metadata": {},
   "outputs": [],
   "source": [
    "# Finding missing values:\n",
    "missing_values = df_customers.isnull().sum()"
   ]
  },
  {
   "cell_type": "code",
   "execution_count": 25,
   "id": "c96bdece-4419-4de5-8261-f5de373ee95b",
   "metadata": {},
   "outputs": [
    {
     "data": {
      "text/plain": [
       "user_id                 0\n",
       "First Name          11259\n",
       "Surname                 0\n",
       "Gender                  0\n",
       "State                   0\n",
       "Age                     0\n",
       "date_joined             0\n",
       "Nº of dependants        0\n",
       "Family status           0\n",
       "income                  0\n",
       "dtype: int64"
      ]
     },
     "execution_count": 25,
     "metadata": {},
     "output_type": "execute_result"
    }
   ],
   "source": [
    "missing_values"
   ]
  },
  {
   "cell_type": "code",
   "execution_count": 27,
   "id": "3424d75d-fcb4-43e0-89c2-992b019b691c",
   "metadata": {},
   "outputs": [],
   "source": [
    "# Finding duplicates:\n",
    "duplicates = df_customers.duplicated()"
   ]
  },
  {
   "cell_type": "code",
   "execution_count": 29,
   "id": "7c330d5b-52d2-415f-89a8-2b452aeb35fb",
   "metadata": {},
   "outputs": [
    {
     "data": {
      "text/plain": [
       "0         False\n",
       "1         False\n",
       "2         False\n",
       "3         False\n",
       "4         False\n",
       "          ...  \n",
       "206204    False\n",
       "206205    False\n",
       "206206    False\n",
       "206207    False\n",
       "206208    False\n",
       "Length: 206209, dtype: bool"
      ]
     },
     "execution_count": 29,
     "metadata": {},
     "output_type": "execute_result"
    }
   ],
   "source": [
    "duplicates"
   ]
  },
  {
   "cell_type": "code",
   "execution_count": 31,
   "id": "a3508e0f-a66c-4814-b21c-f538ed435f3a",
   "metadata": {},
   "outputs": [],
   "source": [
    "#  Find the total number of duplicates:\n",
    "num_duplicates = duplicates.sum()"
   ]
  },
  {
   "cell_type": "code",
   "execution_count": 33,
   "id": "e0fee782-4995-45a7-b462-72c437b5d230",
   "metadata": {},
   "outputs": [
    {
     "data": {
      "text/plain": [
       "0"
      ]
     },
     "execution_count": 33,
     "metadata": {},
     "output_type": "execute_result"
    }
   ],
   "source": [
    "num_duplicates"
   ]
  },
  {
   "cell_type": "markdown",
   "id": "a3c34783-b8ac-40f9-ad0e-0fa640e8e4f5",
   "metadata": {},
   "source": [
    "##### No duplicates found"
   ]
  },
  {
   "cell_type": "code",
   "execution_count": 73,
   "id": "8bea4a99-4064-4aab-81f9-4d30041bfe6a",
   "metadata": {},
   "outputs": [
    {
     "data": {
      "text/plain": [
       "user_id              int32\n",
       "Gender              object\n",
       "State               object\n",
       "Age                  int32\n",
       "Nº of dependants     int64\n",
       "Family status       object\n",
       "income               int32\n",
       "dtype: object"
      ]
     },
     "execution_count": 73,
     "metadata": {},
     "output_type": "execute_result"
    }
   ],
   "source": [
    "# Check column types:\n",
    "df_customers.dtypes"
   ]
  },
  {
   "cell_type": "code",
   "execution_count": 44,
   "id": "065afe48-8086-4f42-b9c7-5425869e1cae",
   "metadata": {},
   "outputs": [],
   "source": [
    "# Convert df_customers_dask dataframe to int32 and float32\n",
    "df_customers['user_id'] = df_customers['user_id'].astype('int32')"
   ]
  },
  {
   "cell_type": "code",
   "execution_count": 46,
   "id": "b1e9dbed-6fc7-4fb6-bcd5-c1e8ffa97a8b",
   "metadata": {},
   "outputs": [],
   "source": [
    "df_customers['Age'] = df_customers['Age'].astype('int32')"
   ]
  },
  {
   "cell_type": "code",
   "execution_count": 48,
   "id": "e54a1725-47b1-42b7-a7a8-8b767773b200",
   "metadata": {},
   "outputs": [],
   "source": [
    "df_customers['income'] = df_customers['income'].astype('int32')"
   ]
  },
  {
   "cell_type": "markdown",
   "id": "91d553ad-12a2-4eb4-a204-be7131aa6b04",
   "metadata": {},
   "source": [
    "##### 5. Combine dataframes"
   ]
  },
  {
   "cell_type": "code",
   "execution_count": 62,
   "id": "5c978bbc-cb71-42ee-a096-20d9e1377fa9",
   "metadata": {},
   "outputs": [
    {
     "data": {
      "text/plain": [
       "order_id                    int32\n",
       "user_id                     int32\n",
       "order_number                int32\n",
       "orders_day_of_the_week      int32\n",
       "order_hour_of_day           int32\n",
       "days_since_prior_order    float32\n",
       "product_id                  int32\n",
       "add_to_cart_order           int32\n",
       "reordered                   int32\n",
       "product_name               object\n",
       "aisle_id                    int32\n",
       "department_id               int32\n",
       "prices                    float32\n",
       "price_range_loc            object\n",
       "busiest_day                object\n",
       "busiest_days               object\n",
       "busiest_period_of_day      object\n",
       "max_order                   int32\n",
       "loyalty_flag               object\n",
       "average_spend             float32\n",
       "spender_flag               object\n",
       "Customer_frequency        float32\n",
       "frequency_flag             object\n",
       "dtype: object"
      ]
     },
     "execution_count": 62,
     "metadata": {},
     "output_type": "execute_result"
    }
   ],
   "source": [
    "# Checki data type:\n",
    "ords_prods_merge.dtypes"
   ]
  },
  {
   "cell_type": "markdown",
   "id": "924337ff-2e2c-4b56-a4c3-656e9015ed48",
   "metadata": {},
   "source": [
    "##### The main column \"user_id\" has the same data type in both dataframes"
   ]
  },
  {
   "cell_type": "markdown",
   "id": "e57ac8a8-fba7-4441-ae0e-80f8906d7f3f",
   "metadata": {},
   "source": [
    "##### 6. Drop Unnecessary columns:"
   ]
  },
  {
   "cell_type": "code",
   "execution_count": 65,
   "id": "0c9dcaac-f706-4af6-8bc2-b37a09f90d78",
   "metadata": {},
   "outputs": [],
   "source": [
    "# Drop the 'First Name' column from the previous dataframe:\n",
    "df_customers = df_customers.drop(columns=['First Name'])"
   ]
  },
  {
   "cell_type": "code",
   "execution_count": 67,
   "id": "edb1a8bc-c24a-4b8a-96ec-ef81c7b391e5",
   "metadata": {},
   "outputs": [],
   "source": [
    "# Drop the 'Surname' column from the previous dataframe:\n",
    "df_customers = df_customers.drop(columns=['Surname'])"
   ]
  },
  {
   "cell_type": "code",
   "execution_count": 71,
   "id": "d984b2e3-c99c-45ef-96e4-c4e1fc722085",
   "metadata": {},
   "outputs": [],
   "source": [
    "# Drop the 'date_joined' column from the previous dataframe:\n",
    "df_customers = df_customers.drop(columns=['date_joined'])"
   ]
  },
  {
   "cell_type": "code",
   "execution_count": 60,
   "id": "d324fba7-d976-4952-9cae-8b1bfe2baede",
   "metadata": {},
   "outputs": [
    {
     "ename": "KeyError",
     "evalue": "\"['_merge'] not found in axis\"",
     "output_type": "error",
     "traceback": [
      "\u001b[1;31m---------------------------------------------------------------------------\u001b[0m",
      "\u001b[1;31mKeyError\u001b[0m                                  Traceback (most recent call last)",
      "Cell \u001b[1;32mIn[60], line 2\u001b[0m\n\u001b[0;32m      1\u001b[0m \u001b[38;5;66;03m# Drop the '_merge' column from the previous dataframe:\u001b[39;00m\n\u001b[1;32m----> 2\u001b[0m ords_prods_merge \u001b[38;5;241m=\u001b[39m ords_prods_merge\u001b[38;5;241m.\u001b[39mdrop(columns\u001b[38;5;241m=\u001b[39m[\u001b[38;5;124m'\u001b[39m\u001b[38;5;124m_merge\u001b[39m\u001b[38;5;124m'\u001b[39m])\n",
      "File \u001b[1;32m~\\anaconda3\\Lib\\site-packages\\pandas\\core\\frame.py:5581\u001b[0m, in \u001b[0;36mDataFrame.drop\u001b[1;34m(self, labels, axis, index, columns, level, inplace, errors)\u001b[0m\n\u001b[0;32m   5433\u001b[0m \u001b[38;5;28;01mdef\u001b[39;00m \u001b[38;5;21mdrop\u001b[39m(\n\u001b[0;32m   5434\u001b[0m     \u001b[38;5;28mself\u001b[39m,\n\u001b[0;32m   5435\u001b[0m     labels: IndexLabel \u001b[38;5;241m|\u001b[39m \u001b[38;5;28;01mNone\u001b[39;00m \u001b[38;5;241m=\u001b[39m \u001b[38;5;28;01mNone\u001b[39;00m,\n\u001b[1;32m   (...)\u001b[0m\n\u001b[0;32m   5442\u001b[0m     errors: IgnoreRaise \u001b[38;5;241m=\u001b[39m \u001b[38;5;124m\"\u001b[39m\u001b[38;5;124mraise\u001b[39m\u001b[38;5;124m\"\u001b[39m,\n\u001b[0;32m   5443\u001b[0m ) \u001b[38;5;241m-\u001b[39m\u001b[38;5;241m>\u001b[39m DataFrame \u001b[38;5;241m|\u001b[39m \u001b[38;5;28;01mNone\u001b[39;00m:\n\u001b[0;32m   5444\u001b[0m \u001b[38;5;250m    \u001b[39m\u001b[38;5;124;03m\"\"\"\u001b[39;00m\n\u001b[0;32m   5445\u001b[0m \u001b[38;5;124;03m    Drop specified labels from rows or columns.\u001b[39;00m\n\u001b[0;32m   5446\u001b[0m \n\u001b[1;32m   (...)\u001b[0m\n\u001b[0;32m   5579\u001b[0m \u001b[38;5;124;03m            weight  1.0     0.8\u001b[39;00m\n\u001b[0;32m   5580\u001b[0m \u001b[38;5;124;03m    \"\"\"\u001b[39;00m\n\u001b[1;32m-> 5581\u001b[0m     \u001b[38;5;28;01mreturn\u001b[39;00m \u001b[38;5;28msuper\u001b[39m()\u001b[38;5;241m.\u001b[39mdrop(\n\u001b[0;32m   5582\u001b[0m         labels\u001b[38;5;241m=\u001b[39mlabels,\n\u001b[0;32m   5583\u001b[0m         axis\u001b[38;5;241m=\u001b[39maxis,\n\u001b[0;32m   5584\u001b[0m         index\u001b[38;5;241m=\u001b[39mindex,\n\u001b[0;32m   5585\u001b[0m         columns\u001b[38;5;241m=\u001b[39mcolumns,\n\u001b[0;32m   5586\u001b[0m         level\u001b[38;5;241m=\u001b[39mlevel,\n\u001b[0;32m   5587\u001b[0m         inplace\u001b[38;5;241m=\u001b[39minplace,\n\u001b[0;32m   5588\u001b[0m         errors\u001b[38;5;241m=\u001b[39merrors,\n\u001b[0;32m   5589\u001b[0m     )\n",
      "File \u001b[1;32m~\\anaconda3\\Lib\\site-packages\\pandas\\core\\generic.py:4788\u001b[0m, in \u001b[0;36mNDFrame.drop\u001b[1;34m(self, labels, axis, index, columns, level, inplace, errors)\u001b[0m\n\u001b[0;32m   4786\u001b[0m \u001b[38;5;28;01mfor\u001b[39;00m axis, labels \u001b[38;5;129;01min\u001b[39;00m axes\u001b[38;5;241m.\u001b[39mitems():\n\u001b[0;32m   4787\u001b[0m     \u001b[38;5;28;01mif\u001b[39;00m labels \u001b[38;5;129;01mis\u001b[39;00m \u001b[38;5;129;01mnot\u001b[39;00m \u001b[38;5;28;01mNone\u001b[39;00m:\n\u001b[1;32m-> 4788\u001b[0m         obj \u001b[38;5;241m=\u001b[39m obj\u001b[38;5;241m.\u001b[39m_drop_axis(labels, axis, level\u001b[38;5;241m=\u001b[39mlevel, errors\u001b[38;5;241m=\u001b[39merrors)\n\u001b[0;32m   4790\u001b[0m \u001b[38;5;28;01mif\u001b[39;00m inplace:\n\u001b[0;32m   4791\u001b[0m     \u001b[38;5;28mself\u001b[39m\u001b[38;5;241m.\u001b[39m_update_inplace(obj)\n",
      "File \u001b[1;32m~\\anaconda3\\Lib\\site-packages\\pandas\\core\\generic.py:4830\u001b[0m, in \u001b[0;36mNDFrame._drop_axis\u001b[1;34m(self, labels, axis, level, errors, only_slice)\u001b[0m\n\u001b[0;32m   4828\u001b[0m         new_axis \u001b[38;5;241m=\u001b[39m axis\u001b[38;5;241m.\u001b[39mdrop(labels, level\u001b[38;5;241m=\u001b[39mlevel, errors\u001b[38;5;241m=\u001b[39merrors)\n\u001b[0;32m   4829\u001b[0m     \u001b[38;5;28;01melse\u001b[39;00m:\n\u001b[1;32m-> 4830\u001b[0m         new_axis \u001b[38;5;241m=\u001b[39m axis\u001b[38;5;241m.\u001b[39mdrop(labels, errors\u001b[38;5;241m=\u001b[39merrors)\n\u001b[0;32m   4831\u001b[0m     indexer \u001b[38;5;241m=\u001b[39m axis\u001b[38;5;241m.\u001b[39mget_indexer(new_axis)\n\u001b[0;32m   4833\u001b[0m \u001b[38;5;66;03m# Case for non-unique axis\u001b[39;00m\n\u001b[0;32m   4834\u001b[0m \u001b[38;5;28;01melse\u001b[39;00m:\n",
      "File \u001b[1;32m~\\anaconda3\\Lib\\site-packages\\pandas\\core\\indexes\\base.py:7070\u001b[0m, in \u001b[0;36mIndex.drop\u001b[1;34m(self, labels, errors)\u001b[0m\n\u001b[0;32m   7068\u001b[0m \u001b[38;5;28;01mif\u001b[39;00m mask\u001b[38;5;241m.\u001b[39many():\n\u001b[0;32m   7069\u001b[0m     \u001b[38;5;28;01mif\u001b[39;00m errors \u001b[38;5;241m!=\u001b[39m \u001b[38;5;124m\"\u001b[39m\u001b[38;5;124mignore\u001b[39m\u001b[38;5;124m\"\u001b[39m:\n\u001b[1;32m-> 7070\u001b[0m         \u001b[38;5;28;01mraise\u001b[39;00m \u001b[38;5;167;01mKeyError\u001b[39;00m(\u001b[38;5;124mf\u001b[39m\u001b[38;5;124m\"\u001b[39m\u001b[38;5;132;01m{\u001b[39;00mlabels[mask]\u001b[38;5;241m.\u001b[39mtolist()\u001b[38;5;132;01m}\u001b[39;00m\u001b[38;5;124m not found in axis\u001b[39m\u001b[38;5;124m\"\u001b[39m)\n\u001b[0;32m   7071\u001b[0m     indexer \u001b[38;5;241m=\u001b[39m indexer[\u001b[38;5;241m~\u001b[39mmask]\n\u001b[0;32m   7072\u001b[0m \u001b[38;5;28;01mreturn\u001b[39;00m \u001b[38;5;28mself\u001b[39m\u001b[38;5;241m.\u001b[39mdelete(indexer)\n",
      "\u001b[1;31mKeyError\u001b[0m: \"['_merge'] not found in axis\""
     ]
    }
   ],
   "source": [
    "# Drop the '_merge' column from the previous dataframe:\n",
    "ords_prods_merge = ords_prods_merge.drop(columns=['_merge'])"
   ]
  },
  {
   "cell_type": "markdown",
   "id": "255cf108-81bf-4228-9edc-4be009a1ad3f",
   "metadata": {},
   "source": [
    "##### 7. Merge dataframe:"
   ]
  },
  {
   "cell_type": "code",
   "execution_count": 77,
   "id": "cf578675-bd75-4aa5-a925-04d6b1ab41aa",
   "metadata": {},
   "outputs": [],
   "source": [
    "# Perform merge:\n",
    "ords_prods_customers_merge = ords_prods_merge.merge(df_customers, on ='user_id')"
   ]
  },
  {
   "cell_type": "markdown",
   "id": "c2ee6fbd-29e5-4f3b-a7bb-1b788c326127",
   "metadata": {},
   "source": [
    "##### 8. Export new dataframe:"
   ]
  },
  {
   "cell_type": "code",
   "execution_count": 81,
   "id": "6c0f8a73-c5a3-4b5b-82c2-46227f66ee46",
   "metadata": {},
   "outputs": [],
   "source": [
    "ords_prods_customers_merge.to_pickle(os.path.join(path, '02. Data','Prepared Data', 'ords_prods_customers_merged.pkl'))"
   ]
  }
 ],
 "metadata": {
  "kernelspec": {
   "display_name": "Python 3 (ipykernel)",
   "language": "python",
   "name": "python3"
  },
  "language_info": {
   "codemirror_mode": {
    "name": "ipython",
    "version": 3
   },
   "file_extension": ".py",
   "mimetype": "text/x-python",
   "name": "python",
   "nbconvert_exporter": "python",
   "pygments_lexer": "ipython3",
   "version": "3.12.4"
  }
 },
 "nbformat": 4,
 "nbformat_minor": 5
}
